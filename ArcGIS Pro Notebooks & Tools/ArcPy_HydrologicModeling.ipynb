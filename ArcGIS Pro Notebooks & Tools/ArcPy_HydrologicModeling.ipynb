{
 "cells": [
  {
   "cell_type": "markdown",
   "metadata": {},
   "source": [
    "# Nolt Engineering Hydrologic Modeling \n",
    "\n",
    "## Python Notebook \n",
    "\n",
    "#### Developed By Ben Beattie Spring 2024"
   ]
  },
  {
   "cell_type": "code",
   "execution_count": 17,
   "metadata": {},
   "outputs": [
    {
     "name": "stdout",
     "output_type": "stream",
     "text": [
      "This is the Bender_Lane project\n",
      "The parcel is located here X:\\GIS\\ArcGIS Pro\\ArcGIS Projects\\Projects\\NoltEngineering\\KinderhookProject_NoltEngineering.gdb\\Bender_Lane_V_Parcel\n",
      "The elevation raster is located here X:\\GIS\\ArcGIS Pro\\ArcGIS Projects\\Projects\\NoltEngineering\\KinderhookProject_NoltEngineering.gdb\\Bender_Lane_R_Mosaic\n",
      "------------------------------------\n",
      "The geodatabase has been created.\n"
     ]
    }
   ],
   "source": [
    "projectname = \"Bender_Lane\"\n",
    "inputrasterpath = r\"X:\\GIS\\ArcGIS Pro\\ArcGIS Projects\\Projects\\NoltEngineering\\KinderhookProject_NoltEngineering.gdb\\Bender_Lane_R_Mosaic\"\n",
    "inputparcelpath = r\"X:\\GIS\\ArcGIS Pro\\ArcGIS Projects\\Projects\\NoltEngineering\\KinderhookProject_NoltEngineering.gdb\\Bender_Lane_V_Parcel\"\n",
    "print(\"This is the {} project\".format(projectname))\n",
    "print(\"The parcel is located here {}\".format(inputparcelpath))\n",
    "print(\"The elevation raster is located here {}\".format(inputrasterpath))\n",
    "print (\"------------------------------------\")\n",
    "\n",
    "arcpy.management.CreateFileGDB(\n",
    "    out_folder_path=r\"X:\\GIS\\ArcGIS Pro\\ArcGIS Projects\\Projects\\NoltEngineering\",\n",
    "    out_name= \"{}_Hydro\".format(projectname),\n",
    "    out_version=\"CURRENT\"\n",
    ")\n",
    "print(\"The geodatabase has been created.\")\n"
   ]
  },
  {
   "cell_type": "code",
   "execution_count": 18,
   "metadata": {
    "scrolled": true
   },
   "outputs": [
    {
     "name": "stdout",
     "output_type": "stream",
     "text": [
      "Creating Snap Point Layer\n",
      "Starting Feature Envelope To Polygon\n",
      "Finished Feature Envelope To Polygon\n",
      "------------------------------------\n",
      "Starting Clip Raster\n",
      "Finished Clip Raster\n",
      "------------------------------------\n",
      "Starting Fill Raster\n",
      "Finished Fill Raster\n",
      "------------------------------------\n",
      "Starting Slope Raster\n",
      "Finished Slope Raster\n",
      "------------------------------------\n",
      "Starting Flow Direction Raster\n",
      "Finished Flow Direction Raster\n",
      "------------------------------------\n",
      "Starting Flow Accumulation Raster\n",
      "Finished Flow Accumulation Raster\n",
      "------------------------------------\n"
     ]
    }
   ],
   "source": [
    "def NoltEngineeringHydrologicModel_Accumulation():  # NoltEngineeringHydrologicModel\n",
    "\n",
    "    # To allow overwriting outputs change overwriteOutput option to True.\n",
    "    arcpy.env.overwriteOutput = True\n",
    "\n",
    "    # Check out any necessary licenses.\n",
    "    arcpy.CheckOutExtension(\"spatial\")\n",
    "\n",
    "    Input_DEM = arcpy.Raster(inputrasterpath)\n",
    "    Parcel_Layer = inputparcelpath\n",
    "    Project_gdb = r\"X:\\GIS\\ArcGIS Pro\\ArcGIS Projects\\Projects\\NoltEngineering\\{}_Hydro.gdb\".format(projectname)\n",
    "    \n",
    "    \n",
    "    print (\"Creating Snap Point Layer\")\n",
    "    Snap_Point_Layer = arcpy.management.CreateFeatureclass(out_path=r\"X:\\GIS\\ArcGIS Pro\\ArcGIS Projects\\Projects\\NoltEngineering\\{}_Hydro.gdb\".format(projectname), out_name= \"{}_V_SnapPoint\".format(projectname), geometry_type=\"POINT\", spatial_reference=\"PROJCS[\\\"NAD_1983_2011_StatePlane_Pennsylvania_South_FIPS_3702_Ft_US\\\",GEOGCS[\\\"GCS_NAD_1983_2011\\\",DATUM[\\\"D_NAD_1983_2011\\\",SPHEROID[\\\"GRS_1980\\\",6378137.0,298.257222101]],PRIMEM[\\\"Greenwich\\\",0.0],UNIT[\\\"Degree\\\",0.0174532925199433]],PROJECTION[\\\"Lambert_Conformal_Conic\\\"],PARAMETER[\\\"False_Easting\\\",1968500.0],PARAMETER[\\\"False_Northing\\\",0.0],PARAMETER[\\\"Central_Meridian\\\",-77.75],PARAMETER[\\\"Standard_Parallel_1\\\",39.93333333333333],PARAMETER[\\\"Standard_Parallel_2\\\",40.96666666666667],PARAMETER[\\\"Latitude_Of_Origin\\\",39.33333333333334],UNIT[\\\"Foot_US\\\",0.3048006096012192]];-119214200 -96198500 37163717.4891341;-100000 10000;-100000 10000;3.28083333333333E-03;0.001;0.001;IsHighPrecision\")[0]\n",
    "\n",
    "    # Process: Feature Envelope To Polygon (Feature Envelope To Polygon) (management)\n",
    "    print (\"Starting Feature Envelope To Polygon\")\n",
    "    Parcel_Envelope = r\"X:\\GIS\\ArcGIS Pro\\ArcGIS Projects\\Projects\\NoltEngineering\\{}_Hydro.gdb\\{}_V_Envelope\".format(projectname, projectname)\n",
    "    with arcpy.EnvManager(outputCoordinateSystem=\"PROJCS[\\\"NAD_1983_2011_StatePlane_Pennsylvania_South_FIPS_3702_Ft_US\\\",GEOGCS[\\\"GCS_NAD_1983_2011\\\",DATUM[\\\"D_NAD_1983_2011\\\",SPHEROID[\\\"GRS_1980\\\",6378137.0,298.257222101]],PRIMEM[\\\"Greenwich\\\",0.0],UNIT[\\\"Degree\\\",0.0174532925199433]],PROJECTION[\\\"Lambert_Conformal_Conic\\\"],PARAMETER[\\\"False_Easting\\\",1968500.0],PARAMETER[\\\"False_Northing\\\",0.0],PARAMETER[\\\"Central_Meridian\\\",-77.75],PARAMETER[\\\"Standard_Parallel_1\\\",39.93333333333333],PARAMETER[\\\"Standard_Parallel_2\\\",40.96666666666667],PARAMETER[\\\"Latitude_Of_Origin\\\",39.33333333333334],UNIT[\\\"Foot_US\\\",0.3048006096012192]]\"):\n",
    "        arcpy.management.FeatureEnvelopeToPolygon(in_features=Parcel_Layer, out_feature_class=Parcel_Envelope)\n",
    "    print (\"Finished Feature Envelope To Polygon\")\n",
    "    \n",
    "    print (\"------------------------------------\")\n",
    "        \n",
    "    # Process: Clip Raster (Clip Raster) (management)\n",
    "    print (\"Starting Clip Raster\")\n",
    "    Clipped_DEM = r\"X:\\GIS\\ArcGIS Pro\\ArcGIS Projects\\Projects\\NoltEngineering\\{}_Hydro.gdb\\{}_R_ClippedDEM\".format(projectname, projectname)\n",
    "    with arcpy.EnvManager(outputCoordinateSystem=\"PROJCS[\\\"NAD_1983_2011_StatePlane_Pennsylvania_South_FIPS_3702_Ft_US\\\",GEOGCS[\\\"GCS_NAD_1983_2011\\\",DATUM[\\\"D_NAD_1983_2011\\\",SPHEROID[\\\"GRS_1980\\\",6378137.0,298.257222101]],PRIMEM[\\\"Greenwich\\\",0.0],UNIT[\\\"Degree\\\",0.0174532925199433]],PROJECTION[\\\"Lambert_Conformal_Conic\\\"],PARAMETER[\\\"False_Easting\\\",1968500.0],PARAMETER[\\\"False_Northing\\\",0.0],PARAMETER[\\\"Central_Meridian\\\",-77.75],PARAMETER[\\\"Standard_Parallel_1\\\",39.93333333333333],PARAMETER[\\\"Standard_Parallel_2\\\",40.96666666666667],PARAMETER[\\\"Latitude_Of_Origin\\\",39.33333333333334],UNIT[\\\"Foot_US\\\",0.3048006096012192]]\"):\n",
    "        arcpy.management.Clip(in_raster=Input_DEM, rectangle=\"\", out_raster=Clipped_DEM, in_template_dataset=Parcel_Envelope)\n",
    "        Clipped_DEM = arcpy.Raster(Clipped_DEM)\n",
    "    print (\"Finished Clip Raster\")\n",
    "    \n",
    "    print (\"------------------------------------\")\n",
    "    \n",
    "    # Process: Fill (Fill) (sa)\n",
    "    print (\"Starting Fill Raster\")\n",
    "    Output_surface_raster = \"\"\n",
    "    Fill = Output_surface_raster\n",
    "    Output_surface_raster = arcpy.sa.Fill(in_surface_raster=Clipped_DEM, z_limit= None)\n",
    "    Output_surface_raster.save(r\"X:\\GIS\\ArcGIS Pro\\ArcGIS Projects\\Projects\\NoltEngineering\\{}_Hydro.gdb\\{}_R_Fill\".format(projectname, projectname))\n",
    "    print (\"Finished Fill Raster\")\n",
    "    \n",
    "    print (\"------------------------------------\")\n",
    "    \n",
    "    print(\"Starting Slope Raster\")\n",
    "    out_raster = arcpy.sa.Slope(\n",
    "        in_raster=r\"X:\\GIS\\ArcGIS Pro\\ArcGIS Projects\\Projects\\NoltEngineering\\{}_Hydro.gdb\\{}_R_Fill\".format(projectname, projectname),\n",
    "        output_measurement=\"DEGREE\",\n",
    "        z_factor=1,\n",
    "        method=\"PLANAR\",\n",
    "        z_unit=\"FOOT\",\n",
    "        analysis_target_device=\"GPU_THEN_CPU\"\n",
    "    )\n",
    "    out_raster.save(r\"X:\\GIS\\ArcGIS Pro\\ArcGIS Projects\\Projects\\NoltEngineering\\{}_Hydro.gdb\\{}_R_Slope\".format(projectname, projectname))\n",
    "    print(\"Finished Slope Raster\")\n",
    "\n",
    "    print (\"------------------------------------\")\n",
    "    \n",
    "    # Process: Flow Direction (Flow Direction) (sa)\n",
    "    print (\"Starting Flow Direction Raster\")\n",
    "    Output_flow_direction_raster = \"\"\n",
    "    Flow_Direction = Output_flow_direction_raster\n",
    "    Output_drop_raster = \"\"\n",
    "    Output_flow_direction_raster = arcpy.sa.FlowDirection(Output_surface_raster, \"NORMAL\", Output_drop_raster, \"D8\")\n",
    "    Output_flow_direction_raster.save(r\"X:\\GIS\\ArcGIS Pro\\ArcGIS Projects\\Projects\\NoltEngineering\\{}_Hydro.gdb\\{}_R_FlowDirection\".format(projectname, projectname))\n",
    "    print (\"Finished Flow Direction Raster\")\n",
    "    \n",
    "    print (\"------------------------------------\")\n",
    "\n",
    "    # Process: Flow Accumulation (Flow Accumulation) (sa)\n",
    "    print (\"Starting Flow Accumulation Raster\")\n",
    "    Output_accumulation_raster = \"\"\n",
    "    Flow_Accumulation = Output_accumulation_raster\n",
    "    Output_accumulation_raster = arcpy.sa.FlowAccumulation(Output_flow_direction_raster, \"\", \"INTEGER\", \"D8\")\n",
    "    Output_accumulation_raster.save(r\"X:\\GIS\\ArcGIS Pro\\ArcGIS Projects\\Projects\\NoltEngineering\\{}_Hydro.gdb\\{}_R_FlowAccumulation\".format(projectname, projectname))\n",
    "    print (\"Finished Flow Accumulation Raster\")\n",
    "    \n",
    "    print (\"------------------------------------\")\n",
    "    \n",
    "if __name__ == '__main__':\n",
    "    # Global Environment settings\n",
    "    with arcpy.EnvManager(scratchWorkspace=r\"X:\\\\GIS\\\\ArcGIS Pro\\\\ArcGIS Projects\\\\Projects\\\\NoltEngineering\\\\KinderhookProject_NoltEngineering.gdb\", workspace=\"X:\\\\GIS\\\\ArcGIS Pro\\\\ArcGIS Projects\\\\Projects\\\\NoltEngineering\\\\KinderhookProject_NoltEngineering.gdb\"):\n",
    "        NoltEngineeringHydrologicModel_Accumulation()\n",
    "\n"
   ]
  },
  {
   "cell_type": "code",
   "execution_count": 19,
   "metadata": {},
   "outputs": [
    {
     "name": "stdout",
     "output_type": "stream",
     "text": [
      "Starting Snapping Of Pour Points To Raster\n",
      "Finished Snapping Of Pour Points To Raster\n",
      "------------------------------------\n",
      "Starting Watershed Delineation\n",
      "Finished Watershed Delineation\n",
      "------------------------------------\n",
      "Starting Watershed Raster To Polygon\n",
      "Finished Watershed Raster To Polygon\n",
      "------------------------------------\n",
      "Adding Fields To Watershed Polygon\n",
      "Fields Added To Watershed Polygon\n",
      "------------------------------------\n",
      "Running Zonal Statistics Raster\n",
      "Finished Zonal Statistics Raster\n"
     ]
    }
   ],
   "source": [
    "def NoltEngineeringHydrologicModel_WatershedDelineation():\n",
    "    \n",
    "    arcpy.env.overwriteOutput = True\n",
    "    \n",
    "    print (\"Starting Snapping Of Pour Points To Raster\")\n",
    "    snapPoint= r\"X:\\GIS\\ArcGIS Pro\\ArcGIS Projects\\Projects\\NoltEngineering\\{}_Hydro.gdb\\{}_V_SnapPoint\".format(projectname, projectname)\n",
    "    accumulationRaster = r\"X:\\GIS\\ArcGIS Pro\\ArcGIS Projects\\Projects\\NoltEngineering\\{}_Hydro.gdb\\{}_R_FlowAccumulation\".format(projectname, projectname)\n",
    "    outputSnapPointRaster = r\"X:\\GIS\\ArcGIS Pro\\ArcGIS Projects\\Projects\\NoltEngineering\\{}_Hydro.gdb\\{}_R_SnapPourPoint\".format(projectname, projectname)\n",
    "    out_raster = arcpy.sa.SnapPourPoint(in_pour_point_data= snapPoint, in_accumulation_raster= accumulationRaster, snap_distance=0, pour_point_field=\"OBJECTID\")\n",
    "    out_raster.save(outputSnapPointRaster)\n",
    "    print (\"Finished Snapping Of Pour Points To Raster\")\n",
    "    \n",
    "    print (\"------------------------------------\")\n",
    "    \n",
    "    print (\"Starting Watershed Delineation\")\n",
    "    flowdirectionRaster = r\"X:\\GIS\\ArcGIS Pro\\ArcGIS Projects\\Projects\\NoltEngineering\\{}_Hydro.gdb\\{}_R_FlowDirection\".format(projectname, projectname)\n",
    "    outputWatershedRaster = r\"X:\\GIS\\ArcGIS Pro\\ArcGIS Projects\\Projects\\NoltEngineering\\{}_Hydro.gdb\\{}_R_Watershed\".format(projectname, projectname)\n",
    "    out_WatershedRaster = arcpy.sa.Watershed(flowdirectionRaster, outputSnapPointRaster, pour_point_field = \"Value\")\n",
    "    out_WatershedRaster.save(outputWatershedRaster)\n",
    "    print (\"Finished Watershed Delineation\")\n",
    "    \n",
    "    print (\"------------------------------------\")\n",
    "    \n",
    "    print (\"Starting Watershed Raster To Polygon\")\n",
    "    outputWatershedPolygon = r\"X:\\GIS\\ArcGIS Pro\\ArcGIS Projects\\Projects\\NoltEngineering\\{}_Hydro.gdb\\{}_V_Watershed\".format(projectname, projectname)\n",
    "    arcpy.conversion.RasterToPolygon(\n",
    "        in_raster= outputWatershedRaster ,\n",
    "        out_polygon_features=outputWatershedPolygon,\n",
    "        simplify=\"SIMPLIFY\",\n",
    "        raster_field=\"OBJECTID\",\n",
    "        create_multipart_features=\"MULTIPLE_OUTER_PART\",\n",
    "        max_vertices_per_feature=None)\n",
    "    print (\"Finished Watershed Raster To Polygon\")\n",
    "    \n",
    "    print (\"------------------------------------\")\n",
    "    \n",
    "    print(\"Adding Fields To Watershed Polygon\")\n",
    "    arcpy.management.AddFields(\n",
    "    in_table= outputWatershedPolygon,\n",
    "    field_description=\"Name TEXT # 255 'Drainage Area #' #;AVG_Slope_Deg FLOAT # # # #\",\n",
    "    template=None)\n",
    "    print(\"Fields Added To Watershed Polygon\")\n",
    "    \n",
    "    print (\"------------------------------------\")\n",
    "        \n",
    "    print(\"Running Zonal Statistics Raster\")\n",
    "    out_zonalraster = arcpy.ia.ZonalStatistics(\n",
    "        in_zone_data=r\"X:\\GIS\\ArcGIS Pro\\ArcGIS Projects\\Projects\\NoltEngineering\\{}_Hydro.gdb\\{}_V_Watershed\".format(projectname, projectname),\n",
    "        zone_field=\"Id\",\n",
    "        in_value_raster=r\"X:\\GIS\\ArcGIS Pro\\ArcGIS Projects\\Projects\\NoltEngineering\\{}_Hydro.gdb\\{}_R_Slope\".format(projectname, projectname),\n",
    "        statistics_type=\"MEAN\",\n",
    "        ignore_nodata=\"DATA\",\n",
    "        process_as_multidimensional=\"CURRENT_SLICE\",\n",
    "        percentile_value=90,\n",
    "        percentile_interpolation_type=\"AUTO_DETECT\",\n",
    "        circular_calculation=\"ARITHMETIC\",\n",
    "        circular_wrap_value=360\n",
    "    )\n",
    "    out_zonalraster.save(r\"X:\\GIS\\ArcGIS Pro\\ArcGIS Projects\\Projects\\NoltEngineering\\KinderhookProject_NoltEngineering.gdb\\{}_R_ZonalStatistics\".format(projectname))\n",
    "    print(\"Finished Zonal Statistics Raster\")\n",
    "    \n",
    "if __name__ == '__main__':\n",
    "    # Global Environment settings\n",
    "    with arcpy.EnvManager(scratchWorkspace=\"X:\\\\GIS\\\\ArcGIS Pro\\\\ArcGIS Projects\\\\Projects\\\\NoltEngineering\\\\KinderhookProject_NoltEngineering.gdb\", workspace=\"X:\\\\GIS\\\\ArcGIS Pro\\\\ArcGIS Projects\\\\Projects\\\\NoltEngineering\\\\KinderhookProject_NoltEngineering.gdb\"):\n",
    "        NoltEngineeringHydrologicModel_WatershedDelineation()"
   ]
  },
  {
   "cell_type": "code",
   "execution_count": 20,
   "metadata": {},
   "outputs": [
    {
     "name": "stdout",
     "output_type": "stream",
     "text": [
      "Creating Stream Layer\n"
     ]
    },
    {
     "data": {
      "text/html": [
       "<div class='gpresult'><h2>Messages</h2><div id='messages' data-messages='[\"Start Time: Monday, May 6, 2024 9:39:42 PM\",\"Succeeded at Monday, May 6, 2024 9:39:44 PM (Elapsed Time: 1.47 seconds)\"]' data-show='true'><div id = 'default' /></div></div>"
      ],
      "text/plain": [
       "<Result 'X:\\\\GIS\\\\ArcGIS Pro\\\\ArcGIS Projects\\\\Projects\\\\NoltEngineering\\\\Bender_Lane_Hydro.gdb\\\\Bender_Lane_V_Stream'>"
      ]
     },
     "execution_count": 20,
     "metadata": {},
     "output_type": "execute_result"
    }
   ],
   "source": [
    "print (\"Creating Stream Layer\")\n",
    "arcpy.management.CreateFeatureclass(\n",
    "    out_path=r\"X:\\GIS\\ArcGIS Pro\\ArcGIS Projects\\Projects\\NoltEngineering\\{}_Hydro.gdb\".format(projectname),\n",
    "    out_name=\"{}_V_Stream\".format(projectname),\n",
    "    geometry_type=\"POLYLINE\",\n",
    "    spatial_reference='PROJCS[\"NAD_1983_2011_StatePlane_Pennsylvania_South_FIPS_3702_Ft_US\",GEOGCS[\"GCS_NAD_1983_2011\",DATUM[\"D_NAD_1983_2011\",SPHEROID[\"GRS_1980\",6378137.0,298.257222101]],PRIMEM[\"Greenwich\",0.0],UNIT[\"Degree\",0.0174532925199433]],PROJECTION[\"Lambert_Conformal_Conic\"],PARAMETER[\"False_Easting\",1968500.0],PARAMETER[\"False_Northing\",0.0],PARAMETER[\"Central_Meridian\",-77.75],PARAMETER[\"Standard_Parallel_1\",39.93333333333333],PARAMETER[\"Standard_Parallel_2\",40.96666666666667],PARAMETER[\"Latitude_Of_Origin\",39.33333333333334],UNIT[\"Foot_US\",0.3048006096012192]];-119214200 -96198500 37163717.4891341;-100000 10000;-100000 10000;3.28083333333333E-03;0.001;0.001;IsHighPrecision',\n",
    ")"
   ]
  },
  {
   "cell_type": "code",
   "execution_count": 21,
   "metadata": {},
   "outputs": [
    {
     "name": "stdout",
     "output_type": "stream",
     "text": [
      "Project name is Bender_Lane.\n",
      "...\n",
      "Changing directory to the path C:\\Users\\Ben\\Downloads.\n",
      "...\n",
      "Created Project Name Folder\n",
      "...\n",
      "Created Stream Folder\n",
      "...\n",
      "Created Watershed Folder\n"
     ]
    }
   ],
   "source": [
    "import os \n",
    "import shutil\n",
    "\n",
    "os.chdir(r'C:\\Users\\Ben\\Downloads')\n",
    "\n",
    "currentdir = os.getcwd()\n",
    "\n",
    "print(\"Project name is {}.\".format(projectname))\n",
    "print(\"...\")\n",
    "print(\"Changing directory to the path {}.\".format(currentdir))\n",
    "\n",
    "os.mkdir(projectname + \"_Deliverables\")\n",
    "\n",
    "print(\"...\")\n",
    "print(\"Created Project Name Folder\")\n",
    "print(\"...\")\n",
    "os.makedirs(\"{}_Deliverables/Stream_SHP\".format(projectname))\n",
    "print(\"Created Stream Folder\")\n",
    "print(\"...\")\n",
    "os.makedirs(\"{}_Deliverables/Watershed_SHP\".format(projectname))\n",
    "print(\"Created Watershed Folder\")\n",
    "\n"
   ]
  },
  {
   "cell_type": "code",
   "execution_count": 12,
   "metadata": {},
   "outputs": [
    {
     "data": {
      "text/plain": [
       "'C:\\\\Users\\\\Ben\\\\Downloads\\\\Sand_Hill_Road_Deliverables.zip.zip'"
      ]
     },
     "execution_count": 12,
     "metadata": {},
     "output_type": "execute_result"
    }
   ],
   "source": [
    "shutil.make_archive(\"{}_Deliverables.zip\".format(projectname), 'zip', r\"C:\\Users\\Ben\\Downloads\\{}_Deliverables\".format(projectname))"
   ]
  },
  {
   "cell_type": "code",
   "execution_count": null,
   "metadata": {},
   "outputs": [],
   "source": []
  }
 ],
 "metadata": {
  "kernelspec": {
   "display_name": "ArcGISPro",
   "language": "Python",
   "name": "python3"
  },
  "language_info": {
   "file_extension": ".py",
   "name": "python",
   "version": "3"
  }
 },
 "nbformat": 4,
 "nbformat_minor": 2
}
